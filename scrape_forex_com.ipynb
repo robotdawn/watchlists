{
 "metadata": {
  "language_info": {
   "codemirror_mode": {
    "name": "ipython",
    "version": 3
   },
   "file_extension": ".py",
   "mimetype": "text/x-python",
   "name": "python",
   "nbconvert_exporter": "python",
   "pygments_lexer": "ipython3",
   "version": "3.7.7-final"
  },
  "orig_nbformat": 2,
  "kernelspec": {
   "name": "python3",
   "display_name": "Python 3"
  }
 },
 "nbformat": 4,
 "nbformat_minor": 2,
 "cells": [
  {
   "cell_type": "code",
   "execution_count": 16,
   "metadata": {},
   "outputs": [],
   "source": [
    "from bs4 import BeautifulSoup\n",
    "import requests\n",
    "from selenium import webdriver\n",
    "import time\n",
    "import pandas as pd\n",
    "\n"
   ]
  },
  {
   "cell_type": "code",
   "execution_count": 17,
   "metadata": {},
   "outputs": [
    {
     "output_type": "stream",
     "name": "stdout",
     "text": [
      "BeautifulSoup - Number of results 1\n"
     ]
    }
   ],
   "source": [
    "URL = 'https://webtrader.forex.com/browse'\n",
    "page = requests.get(URL)\n",
    "soup = BeautifulSoup(page.content, 'html.parser')\n",
    "results = soup.find_all('div')\n",
    "print('BeautifulSoup - Number of results', len(results))"
   ]
  },
  {
   "cell_type": "code",
   "execution_count": 18,
   "metadata": {},
   "outputs": [],
   "source": [
    "# scrape the webpage using firefox webdriver\n",
    "URL = 'https://webtrader.forex.com/browse'\n",
    "\n",
    "# run firefox webdriver from executable path of your choice\n",
    "# driver = webdriver.Firefox(executable_path = '/Users/kerry/Downloads/geckodriver')\n",
    "from selenium.webdriver import Firefox\n",
    "driver = Firefox(executable_path='C:\\\\Users\\\\john\\\\.pytools\\\\geckodriver',\n",
    "                service_log_path=\"C:\\\\Users\\\\john\\\\AppData\\\\Local\\\\Temp\\\\geckodriver.log\")\n",
    "# get web page\n",
    "driver.get(URL)\n",
    "# execute script to scroll down the page\n",
    "#      driver.execute_script(\"window.scrollTo(0, document.body.scrollHeight);var lenOfPage=document.body.scrollHeight;return lenOfPage;\")\n",
    "# sleep for 30s\n",
    "#      time.sleep(30)\n",
    "# find elements by xpath\n",
    "#results = driver.find_elements_by_xpath(\"//*[@id='componentsContainer']//*[contains(@id,'listingsContainer')]//*[@class='product active']//*[@class='title productTitle']\")\n",
    "# results = driver.find_elements_by_xpath(\"//*[@class=' co-product-list__main-cntr']//*[@class=' co-item ']//*[@class='co-product']//*[@class='co-item__title-container']//*[@class='co-product__title']\")\n",
    "# print('Firefox Webdriver - Number of results', len(results))\n",
    "#       html = driver.page_source"
   ]
  },
  {
   "cell_type": "code",
   "execution_count": 26,
   "metadata": {},
   "outputs": [],
   "source": [
    "driver.execute_script(\"window.scrollTo(0, document.body.scrollHeight);var lenOfPage=document.body.scrollHeight;return lenOfPage;\")\n",
    "# time.sleep(15)\n",
    "html = driver.page_source\n",
    "with open('fx-all-4.txt', 'w') as file:\n",
    "    file.write(html)"
   ]
  },
  {
   "cell_type": "code",
   "execution_count": null,
   "metadata": {},
   "outputs": [],
   "source": []
  }
 ]
}